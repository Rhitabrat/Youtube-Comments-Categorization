{
 "cells": [
  {
   "cell_type": "code",
   "execution_count": 1,
   "metadata": {},
   "outputs": [],
   "source": [
    "import pandas as pd\n",
    "import numpy as np\n",
    "from collections import Counter\n",
    "import matplotlib.pyplot as plt\n",
    "import re\n",
    "import nltk\n",
    "from autocorrect import Speller\n",
    "from nltk.corpus import stopwords\n",
    "\n",
    "from sklearn.linear_model import LogisticRegression\n",
    "from sklearn.ensemble import RandomForestClassifier\n",
    "from sklearn.naive_bayes import MultinomialNB\n",
    "from sklearn.svm import LinearSVC\n",
    "from sklearn.model_selection import cross_val_score\n",
    "from sklearn.tree import DecisionTreeClassifier"
   ]
  },
  {
   "cell_type": "markdown",
   "metadata": {},
   "source": [
    "## Import the Data"
   ]
  },
  {
   "cell_type": "code",
   "execution_count": 2,
   "metadata": {},
   "outputs": [],
   "source": [
    "df = pd.read_csv('Data/final_data.csv', header=None)\n",
    "# df.rename(columns={0: 'comment', 1: 'category'}, inplace=True)"
   ]
  },
  {
   "cell_type": "markdown",
   "metadata": {},
   "source": [
    "## Exploring the Data"
   ]
  },
  {
   "cell_type": "code",
   "execution_count": 3,
   "metadata": {},
   "outputs": [
    {
     "data": {
      "text/plain": [
       "array(['positive', 'imperative', 'interrogative', 'miscellaneous',\n",
       "       'corrective', 'negative'], dtype=object)"
      ]
     },
     "execution_count": 3,
     "metadata": {},
     "output_type": "execute_result"
    }
   ],
   "source": [
    "# Printing unique category\n",
    "df[1].unique()"
   ]
  },
  {
   "cell_type": "code",
   "execution_count": 4,
   "metadata": {},
   "outputs": [
    {
     "data": {
      "text/plain": [
       "True"
      ]
     },
     "execution_count": 4,
     "metadata": {},
     "output_type": "execute_result"
    }
   ],
   "source": [
    "# removing duplicate rows\n",
    "# df = df.drop_duplicates()\n",
    "df.duplicated().any()"
   ]
  },
  {
   "cell_type": "code",
   "execution_count": 5,
   "metadata": {},
   "outputs": [
    {
     "data": {
      "text/plain": [
       "0    0\n",
       "1    0\n",
       "dtype: int64"
      ]
     },
     "execution_count": 5,
     "metadata": {},
     "output_type": "execute_result"
    }
   ],
   "source": [
    "# Checking null values\n",
    "df.isnull().sum()"
   ]
  },
  {
   "cell_type": "code",
   "execution_count": 6,
   "metadata": {},
   "outputs": [
    {
     "data": {
      "text/plain": [
       "(1716, 2)"
      ]
     },
     "execution_count": 6,
     "metadata": {},
     "output_type": "execute_result"
    }
   ],
   "source": [
    "# Checking the shape of the data\n",
    "df.shape"
   ]
  },
  {
   "cell_type": "markdown",
   "metadata": {},
   "source": [
    "## Preprocessing"
   ]
  },
  {
   "cell_type": "code",
   "execution_count": 7,
   "metadata": {},
   "outputs": [
    {
     "name": "stderr",
     "output_type": "stream",
     "text": [
      "<ipython-input-7-fcb4b1ba984c>:7: FutureWarning: The default value of regex will change from True to False in a future version.\n",
      "  df[0] = df[0].str.replace('http\\S+|www.\\S+', '', case=False)\n",
      "<ipython-input-7-fcb4b1ba984c>:13: FutureWarning: The default value of regex will change from True to False in a future version.\n",
      "  df[0] = df[0].str.replace('[^\\w\\s]',' ')\n",
      "<ipython-input-7-fcb4b1ba984c>:19: FutureWarning: The default value of regex will change from True to False in a future version.\n",
      "  df[0] = df[0].str.replace('[^\\w\\s#@/:%.,_-]', ' ', flags=re.UNICODE)\n"
     ]
    },
    {
     "data": {
      "text/html": [
       "<div>\n",
       "<style scoped>\n",
       "    .dataframe tbody tr th:only-of-type {\n",
       "        vertical-align: middle;\n",
       "    }\n",
       "\n",
       "    .dataframe tbody tr th {\n",
       "        vertical-align: top;\n",
       "    }\n",
       "\n",
       "    .dataframe thead th {\n",
       "        text-align: right;\n",
       "    }\n",
       "</style>\n",
       "<table border=\"1\" class=\"dataframe\">\n",
       "  <thead>\n",
       "    <tr style=\"text-align: right;\">\n",
       "      <th></th>\n",
       "      <th>0</th>\n",
       "      <th>1</th>\n",
       "    </tr>\n",
       "  </thead>\n",
       "  <tbody>\n",
       "    <tr>\n",
       "      <th>0</th>\n",
       "      <td>love you sir</td>\n",
       "      <td>positive</td>\n",
       "    </tr>\n",
       "    <tr>\n",
       "      <th>1</th>\n",
       "      <td>please make videos on  midpoint circle drawing...</td>\n",
       "      <td>imperative</td>\n",
       "    </tr>\n",
       "    <tr>\n",
       "      <th>2</th>\n",
       "      <td>i bought both of your courses on udemy  you ar...</td>\n",
       "      <td>interrogative</td>\n",
       "    </tr>\n",
       "    <tr>\n",
       "      <th>3</th>\n",
       "      <td>thank you very much  u really got me in the fi...</td>\n",
       "      <td>positive</td>\n",
       "    </tr>\n",
       "    <tr>\n",
       "      <th>4</th>\n",
       "      <td>i hope u are ok with everything going on again...</td>\n",
       "      <td>miscellaneous</td>\n",
       "    </tr>\n",
       "    <tr>\n",
       "      <th>...</th>\n",
       "      <td>...</td>\n",
       "      <td>...</td>\n",
       "    </tr>\n",
       "    <tr>\n",
       "      <th>1711</th>\n",
       "      <td>thanks very much for taking the time to put up...</td>\n",
       "      <td>positive</td>\n",
       "    </tr>\n",
       "    <tr>\n",
       "      <th>1712</th>\n",
       "      <td>i have installed java but why jre folder not s...</td>\n",
       "      <td>imperative</td>\n",
       "    </tr>\n",
       "    <tr>\n",
       "      <th>1713</th>\n",
       "      <td>i dont see the jre file below the jdk did i do...</td>\n",
       "      <td>interrogative</td>\n",
       "    </tr>\n",
       "    <tr>\n",
       "      <th>1714</th>\n",
       "      <td>turn up your microphone</td>\n",
       "      <td>imperative</td>\n",
       "    </tr>\n",
       "    <tr>\n",
       "      <th>1715</th>\n",
       "      <td>how to know in window  java is installed</td>\n",
       "      <td>interrogative</td>\n",
       "    </tr>\n",
       "  </tbody>\n",
       "</table>\n",
       "<p>1716 rows × 2 columns</p>\n",
       "</div>"
      ],
      "text/plain": [
       "                                                      0              1\n",
       "0                                        love you sir         positive\n",
       "1     please make videos on  midpoint circle drawing...     imperative\n",
       "2     i bought both of your courses on udemy  you ar...  interrogative\n",
       "3     thank you very much  u really got me in the fi...       positive\n",
       "4     i hope u are ok with everything going on again...  miscellaneous\n",
       "...                                                 ...            ...\n",
       "1711  thanks very much for taking the time to put up...       positive\n",
       "1712  i have installed java but why jre folder not s...     imperative\n",
       "1713  i dont see the jre file below the jdk did i do...  interrogative\n",
       "1714                       turn up your microphone          imperative\n",
       "1715           how to know in window  java is installed  interrogative\n",
       "\n",
       "[1716 rows x 2 columns]"
      ]
     },
     "execution_count": 7,
     "metadata": {},
     "output_type": "execute_result"
    }
   ],
   "source": [
    "# Preprocessing\n",
    "\n",
    "# lowercasing\n",
    "df[0] = df[0].str.lower()\n",
    "\n",
    "# removing urls\n",
    "df[0] = df[0].str.replace('http\\S+|www.\\S+', '', case=False)\n",
    "\n",
    "# removing new lines \"\\n\"\n",
    "df[0] = df[0].str.replace('\\n',' ', regex=True)\n",
    "\n",
    "# removing all the punctuations\n",
    "df[0] = df[0].str.replace('[^\\w\\s]',' ')\n",
    "\n",
    "# removing integers\n",
    "df[0] = df[0].str.replace('\\d','', regex=True)\n",
    "\n",
    "# removing emojis\n",
    "df[0] = df[0].str.replace('[^\\w\\s#@/:%.,_-]', ' ', flags=re.UNICODE)\n",
    "df"
   ]
  },
  {
   "cell_type": "code",
   "execution_count": null,
   "metadata": {},
   "outputs": [],
   "source": []
  },
  {
   "cell_type": "code",
   "execution_count": 8,
   "metadata": {},
   "outputs": [],
   "source": [
    "# df.rename(columns={'comment':0, 'category':1}, inplace=True)\n",
    "# df"
   ]
  },
  {
   "cell_type": "code",
   "execution_count": null,
   "metadata": {},
   "outputs": [],
   "source": []
  },
  {
   "cell_type": "code",
   "execution_count": 9,
   "metadata": {},
   "outputs": [
    {
     "data": {
      "text/plain": [
       "0                                          love you sir  \n",
       "1       please make videos on  midpoint circle drawing...\n",
       "2       i bought both of your courses on dmy  you are ...\n",
       "3       thank you very much  u really got me in the fi...\n",
       "4       i hope u are ok with everything going on again...\n",
       "                              ...                        \n",
       "1711    thanks very much for taking the time to put up...\n",
       "1712    i have installed java but why are folder not s...\n",
       "1713    i dont see the are file below the jk did i do ...\n",
       "1714                         turn up your microphone     \n",
       "1715             how to know in window  java is installed\n",
       "Name: 0, Length: 1716, dtype: object"
      ]
     },
     "execution_count": 9,
     "metadata": {},
     "output_type": "execute_result"
    }
   ],
   "source": [
    "# correcting the typos\n",
    "\n",
    "spell = Speller(lang='en')\n",
    "\n",
    "def typo_corrector(text):\n",
    "    return spell(text)\n",
    "\n",
    "df[0] = df[0].apply(typo_corrector)\n",
    "df[0]"
   ]
  },
  {
   "cell_type": "code",
   "execution_count": 10,
   "metadata": {},
   "outputs": [
    {
     "data": {
      "text/html": [
       "<div>\n",
       "<style scoped>\n",
       "    .dataframe tbody tr th:only-of-type {\n",
       "        vertical-align: middle;\n",
       "    }\n",
       "\n",
       "    .dataframe tbody tr th {\n",
       "        vertical-align: top;\n",
       "    }\n",
       "\n",
       "    .dataframe thead th {\n",
       "        text-align: right;\n",
       "    }\n",
       "</style>\n",
       "<table border=\"1\" class=\"dataframe\">\n",
       "  <thead>\n",
       "    <tr style=\"text-align: right;\">\n",
       "      <th></th>\n",
       "      <th>0</th>\n",
       "      <th>1</th>\n",
       "    </tr>\n",
       "  </thead>\n",
       "  <tbody>\n",
       "    <tr>\n",
       "      <th>0</th>\n",
       "      <td>love you sir</td>\n",
       "      <td>positive</td>\n",
       "    </tr>\n",
       "    <tr>\n",
       "      <th>1</th>\n",
       "      <td>please make videos on  midpoint circle drawing...</td>\n",
       "      <td>imperative</td>\n",
       "    </tr>\n",
       "    <tr>\n",
       "      <th>2</th>\n",
       "      <td>i bought both of your courses on dmy  you are ...</td>\n",
       "      <td>interrogative</td>\n",
       "    </tr>\n",
       "    <tr>\n",
       "      <th>3</th>\n",
       "      <td>thank you very much  u really got me in the fi...</td>\n",
       "      <td>positive</td>\n",
       "    </tr>\n",
       "    <tr>\n",
       "      <th>4</th>\n",
       "      <td>i hope u are ok with everything going on again...</td>\n",
       "      <td>miscellaneous</td>\n",
       "    </tr>\n",
       "    <tr>\n",
       "      <th>...</th>\n",
       "      <td>...</td>\n",
       "      <td>...</td>\n",
       "    </tr>\n",
       "    <tr>\n",
       "      <th>1711</th>\n",
       "      <td>thanks very much for taking the time to put up...</td>\n",
       "      <td>positive</td>\n",
       "    </tr>\n",
       "    <tr>\n",
       "      <th>1712</th>\n",
       "      <td>i have installed java but why are folder not s...</td>\n",
       "      <td>imperative</td>\n",
       "    </tr>\n",
       "    <tr>\n",
       "      <th>1713</th>\n",
       "      <td>i dont see the are file below the jk did i do ...</td>\n",
       "      <td>interrogative</td>\n",
       "    </tr>\n",
       "    <tr>\n",
       "      <th>1714</th>\n",
       "      <td>turn up your microphone</td>\n",
       "      <td>imperative</td>\n",
       "    </tr>\n",
       "    <tr>\n",
       "      <th>1715</th>\n",
       "      <td>how to know in window  java is installed</td>\n",
       "      <td>interrogative</td>\n",
       "    </tr>\n",
       "  </tbody>\n",
       "</table>\n",
       "<p>1716 rows × 2 columns</p>\n",
       "</div>"
      ],
      "text/plain": [
       "                                                      0              1\n",
       "0                                        love you sir         positive\n",
       "1     please make videos on  midpoint circle drawing...     imperative\n",
       "2     i bought both of your courses on dmy  you are ...  interrogative\n",
       "3     thank you very much  u really got me in the fi...       positive\n",
       "4     i hope u are ok with everything going on again...  miscellaneous\n",
       "...                                                 ...            ...\n",
       "1711  thanks very much for taking the time to put up...       positive\n",
       "1712  i have installed java but why are folder not s...     imperative\n",
       "1713  i dont see the are file below the jk did i do ...  interrogative\n",
       "1714                       turn up your microphone          imperative\n",
       "1715           how to know in window  java is installed  interrogative\n",
       "\n",
       "[1716 rows x 2 columns]"
      ]
     },
     "execution_count": 10,
     "metadata": {},
     "output_type": "execute_result"
    }
   ],
   "source": [
    "lemmatizer = nltk.stem.WordNetLemmatizer()\n",
    "def lemmatize_text(text):\n",
    "    return lemmatizer.lemmatize(text)\n",
    "\n",
    "df[0] = df[0].apply(lemmatize_text)\n",
    "df\n",
    "\n",
    "# # # stemming\n",
    "# stemmer = nltk.stem.SnowballStemmer('english')\n",
    "# def stem_text(text):\n",
    "#     return stemmer.stem(text)\n",
    "\n",
    "# df[0] = df[0].apply(stem_text)\n",
    "# df\n",
    "\n",
    "# lemmatizing\n",
    "\n",
    "# nltk.download('wordnet')\n",
    "\n"
   ]
  },
  {
   "cell_type": "code",
   "execution_count": null,
   "metadata": {},
   "outputs": [],
   "source": []
  },
  {
   "cell_type": "code",
   "execution_count": 11,
   "metadata": {},
   "outputs": [],
   "source": [
    "# Removing stopwords\n",
    "# nltk.download('stopwords')\n",
    "\n",
    "stop = stopwords.words('english')\n",
    "\n",
    "# These are the words that should not be removed from their category\n",
    "negative_words = ['no','not']\n",
    "interrogative_words = ['how','what','which','who','whom','why','do','does','is','are','was','were','will','am',\n",
    "                      'are','could','would','should','can','did','does','do','had','have']\n",
    "imperative_words = ['could','would','should','can']\n",
    "\n",
    "for_negative_category = stop.copy()\n",
    "for word in negative_words:\n",
    "    if word in for_negative_category:\n",
    "        for_negative_category.remove(word)\n",
    "    \n",
    "for_interrogative_category = stop.copy()\n",
    "for word in interrogative_words:\n",
    "    if word in for_interrogative_category:\n",
    "        for_interrogative_category.remove(word)\n",
    "    \n",
    "for_imperative_category = stop.copy()\n",
    "for word in imperative_words:\n",
    "    if word in for_imperative_category:\n",
    "        for_imperative_category.remove(word)\n",
    "\n",
    "# For negative category\n",
    "for i in range(len(df)):\n",
    "    if df[1][i] == \"negative\":\n",
    "        df[0][i] = ' '.join([word for word in df[0][i].split() if word not in for_negative_category])\n",
    "\n",
    "# For interrogative category\n",
    "for i in range(len(df)):\n",
    "    if df[1][i] == \"interrogative\":\n",
    "        df[0][i] = ' '.join([word for word in df[0][i].split() if word not in for_interrogative_category])\n",
    "        \n",
    "# For interrogative category\n",
    "for i in range(len(df)):\n",
    "    if df[1][i] == \"imperative\":\n",
    "        df[0][i] = ' '.join([word for word in df[0][i].split() if word not in for_imperative_category])\n",
    "        \n",
    "# For all other category\n",
    "for i in range(len(df)):\n",
    "    if df[1][i] == \"positive\" or df[1][i] == \"correction\" or df[1][i] == \"other\":\n",
    "        df[0][i] = ' '.join([word for word in df[0][i].split() if word not in stop])\n",
    "\n",
    "# df[0] = df[0].apply(lambda x: ' '.join([word for word in x.split() if word not in (stop)]))\n",
    "# df"
   ]
  },
  {
   "cell_type": "code",
   "execution_count": 12,
   "metadata": {},
   "outputs": [],
   "source": [
    "# from wordcloud import WordCloud\n",
    "# text = df[0].values \n",
    "\n",
    "# wordcloud = WordCloud(background_color='white',collocations=False).generate(str(text))\n",
    "\n",
    "# plt.imshow(wordcloud)\n",
    "# plt.axis(\"off\")\n",
    "# plt.show()"
   ]
  },
  {
   "cell_type": "markdown",
   "metadata": {},
   "source": [
    "## Feature Extaction"
   ]
  },
  {
   "cell_type": "code",
   "execution_count": 13,
   "metadata": {},
   "outputs": [
    {
     "data": {
      "text/plain": [
       "(1716, 2)"
      ]
     },
     "execution_count": 13,
     "metadata": {},
     "output_type": "execute_result"
    }
   ],
   "source": [
    "df.shape"
   ]
  },
  {
   "cell_type": "code",
   "execution_count": 14,
   "metadata": {},
   "outputs": [
    {
     "data": {
      "text/plain": [
       "(1716, 489)"
      ]
     },
     "execution_count": 14,
     "metadata": {},
     "output_type": "execute_result"
    }
   ],
   "source": [
    "import math \n",
    "\n",
    "N_occurance = 5\n",
    "\n",
    "words = [df[0][i].split() for i in range(len(df))]\n",
    "bag_of_words = sorted(list({word for list_ in words for word in list_}))\n",
    "word_count = {word:0 for word in bag_of_words}\n",
    "for word in bag_of_words:\n",
    "    for list_ in words:\n",
    "        if word in list_:\n",
    "            word_count[word]+=1\n",
    "filtered_words = [k for k,v in word_count.items() if v>N_occurance]\n",
    "evaluation = np.zeros((len(df),len(filtered_words)))\n",
    "for i in range(len(words)):\n",
    "    counter = Counter(words[i])\n",
    "    for k, v in counter.items():\n",
    "        if k not in filtered_words:\n",
    "            continue\n",
    "        count = [1 for list_ in words if k in list_]\n",
    "        evaluation[i][filtered_words.index(k)] = sum(count)/len(words)\n",
    "\n",
    "# print(filtered_words)\n",
    "evaluation.shape"
   ]
  },
  {
   "cell_type": "code",
   "execution_count": 15,
   "metadata": {},
   "outputs": [],
   "source": [
    "# features = evaluation\n",
    "# features"
   ]
  },
  {
   "cell_type": "code",
   "execution_count": 16,
   "metadata": {},
   "outputs": [],
   "source": [
    "from sklearn import preprocessing\n",
    "# features = preprocessing.normalize(evaluation, norm='l2')\n",
    "# features\n",
    "\n",
    "# from sklearn.preprocessing import StandardScaler\n",
    "# scaler = StandardScaler()\n",
    "# features = scaler.fit_transform(evaluation)\n",
    "\n",
    "min_max_scaler = preprocessing.MinMaxScaler()\n",
    "features = min_max_scaler.fit_transform(evaluation)\n",
    "\n",
    "# scaler = preprocessing.RobustScaler()\n",
    "# features = scaler.fit_transform(evaluation)\n"
   ]
  },
  {
   "cell_type": "code",
   "execution_count": 17,
   "metadata": {},
   "outputs": [
    {
     "data": {
      "text/plain": [
       "numpy.ndarray"
      ]
     },
     "execution_count": 17,
     "metadata": {},
     "output_type": "execute_result"
    }
   ],
   "source": [
    "type(evaluation)"
   ]
  },
  {
   "cell_type": "markdown",
   "metadata": {},
   "source": [
    "## Applying models and calculating the scores"
   ]
  },
  {
   "cell_type": "code",
   "execution_count": 18,
   "metadata": {},
   "outputs": [
    {
     "data": {
      "image/png": "[encoded data removed]",
      "text/plain": [
       "<Figure size 432x288 with 1 Axes>"
      ]
     },
     "metadata": {
      "needs_background": "light"
     },
     "output_type": "display_data"
    }
   ],
   "source": [
    "# Applying models\n",
    "\n",
    "labels = df[1]\n",
    "models = [\n",
    "    RandomForestClassifier(max_features='log2', n_estimators=1000, criterion = 'entropy', \n",
    "                           random_state = 0),\n",
    "    LinearSVC(C=1.0, random_state=0),\n",
    "    MultinomialNB(alpha=1, fit_prior=True),\n",
    "    LogisticRegression(C=1.0, penalty='l2', solver='newton-cg', random_state = 0),\n",
    "    DecisionTreeClassifier(criterion='gini', \n",
    "                           max_features=None,min_samples_leaf=1, \n",
    "                           min_samples_split=2, random_state=0),\n",
    "]\n",
    "\n",
    "cv_df = pd.DataFrame()\n",
    "entries = []\n",
    "\n",
    "for model in models:\n",
    "  model_name = model.__class__.__name__\n",
    "  accuracies = cross_val_score(model, features, labels, scoring='accuracy', cv=10)\n",
    "  for fold_idx, accuracy in enumerate(accuracies):\n",
    "    entries.append((model_name, fold_idx, accuracy))\n",
    "\n",
    "cv_df = pd.DataFrame(entries, columns=['model_name', 'fold_idx', 'accuracy'])\n",
    "\n",
    "import seaborn as sns\n",
    "sns.boxplot(x='model_name', y='accuracy', data=cv_df)\n",
    "sns.stripplot(x='model_name', y='accuracy', data=cv_df, size=10, jitter=True, linewidth=1)\n",
    "plt.show()"
   ]
  },
  {
   "cell_type": "code",
   "execution_count": 19,
   "metadata": {},
   "outputs": [
    {
     "data": {
      "text/plain": [
       "model_name\n",
       "DecisionTreeClassifier    0.747688\n",
       "LinearSVC                 0.812386\n",
       "LogisticRegression        0.825211\n",
       "MultinomialNB             0.816449\n",
       "RandomForestClassifier    0.811805\n",
       "Name: accuracy, dtype: float64"
      ]
     },
     "execution_count": 19,
     "metadata": {},
     "output_type": "execute_result"
    }
   ],
   "source": [
    "# Printing the accuracies\n",
    "cv_df.groupby('model_name').accuracy.mean()"
   ]
  },
  {
   "cell_type": "code",
   "execution_count": 20,
   "metadata": {},
   "outputs": [
    {
     "data": {
      "text/plain": [
       "(1716, 489)"
      ]
     },
     "execution_count": 20,
     "metadata": {},
     "output_type": "execute_result"
    }
   ],
   "source": [
    "features.shape"
   ]
  },
  {
   "cell_type": "markdown",
   "metadata": {},
   "source": [
    "## Appyling other models"
   ]
  },
  {
   "cell_type": "code",
   "execution_count": 21,
   "metadata": {},
   "outputs": [],
   "source": [
    "X = features\n",
    "y = df.iloc[:, 1].values\n",
    "indices = range(len(X))"
   ]
  },
  {
   "cell_type": "code",
   "execution_count": 22,
   "metadata": {},
   "outputs": [],
   "source": [
    "from sklearn.model_selection import train_test_split\n",
    "\n",
    "X_train, X_test, y_train, y_test, indices_train, indices_test = train_test_split(X, y, indices,\n",
    "                                                                                 test_size=0.2, random_state=42)"
   ]
  },
  {
   "cell_type": "code",
   "execution_count": 147,
   "metadata": {},
   "outputs": [],
   "source": [
    "# for scatter plot -> at the bottom\n",
    "\n",
    "# # Function to show the accuracy of each class\n",
    "# def acc_each_class(cf_matrix):\n",
    "#     total_comments = cf_matrix.sum(axis=1)\n",
    "#     correctly_classified = np.diagonal(cf_matrix)\n",
    "#     incorrectly_classified = total_comments-correctly_classified\n",
    "    \n",
    "#     accuracy_each_class = correctly_classified/total_comments\n",
    "#     return accuracy_each_class\n",
    "#     return total_comments, correctly_classified, incorrectly_classified"
   ]
  },
  {
   "cell_type": "code",
   "execution_count": 26,
   "metadata": {},
   "outputs": [],
   "source": [
    "# Function to show original category vs predicted category\n",
    "\n",
    "def show_prediction(y_pred, y_test):\n",
    "\n",
    "    indices_match = y_pred == y_test\n",
    "\n",
    "    df = pd.read_csv('Data/final_data.csv', header=None)\n",
    "\n",
    "    get_comments = []\n",
    "\n",
    "    for i in range(len(indices_test)):\n",
    "        get_comments.append(df[0][indices_test[i]])\n",
    "\n",
    "\n",
    "    data = list(zip(get_comments, y_test, y_pred))\n",
    "    df_result = pd.DataFrame(data, columns=[\"comment\", \"original class\", \"predicted class\"])\n",
    "    return df_result"
   ]
  },
  {
   "cell_type": "code",
   "execution_count": 77,
   "metadata": {},
   "outputs": [
    {
     "name": "stdout",
     "output_type": "stream",
     "text": [
      "accuracy score: 0.8372093023255814\n"
     ]
    }
   ],
   "source": [
    "# Multinomial NB\n",
    "from sklearn.naive_bayes import MultinomialNB\n",
    "\n",
    "classifier = MultinomialNB(alpha=1, fit_prior=True)\n",
    "classifier.fit(X_train, y_train)\n",
    "\n",
    "# Predicting the Test set results\n",
    "y_pred = classifier.predict(X_test)\n",
    "\n",
    "# Making the Confusion Matrix\n",
    "from sklearn.metrics import confusion_matrix\n",
    "cm_mnb = confusion_matrix(y_test, y_pred)\n",
    "\n",
    "\n",
    "print(\"accuracy score: \" + str(classifier.score(X_test, y_test)))"
   ]
  },
  {
   "cell_type": "code",
   "execution_count": 92,
   "metadata": {},
   "outputs": [],
   "source": [
    "# accuracies = acc_each_class(cm)\n",
    "\n",
    "# acc_corrective.append(accuracies[0])\n",
    "# acc_imperative.append(accuracies[1])\n",
    "# acc_interrogative.append(accuracies[2])\n",
    "# acc_miscellaneous.append(accuracies[3])\n",
    "# acc_negative.append(accuracies[4])\n",
    "# acc_positive.append(accuracies[5])"
   ]
  },
  {
   "cell_type": "code",
   "execution_count": null,
   "metadata": {},
   "outputs": [],
   "source": []
  },
  {
   "cell_type": "code",
   "execution_count": 91,
   "metadata": {},
   "outputs": [],
   "source": [
    "# ### Hyperparameter Tuning ###\n",
    "\n",
    "# from sklearn.model_selection import RepeatedStratifiedKFold\n",
    "# from sklearn.model_selection import GridSearchCV\n",
    "# # from sklearn.ensemble import MultinomialNB\n",
    "\n",
    "# # define models and parameters\n",
    "# model = MultinomialNB()\n",
    "# fit_prior=[True, False]\n",
    "# alpha=[0,0.5,1]\n",
    "\n",
    "# # define grid search\n",
    "# grid = dict(fit_prior=fit_prior,alpha=alpha)\n",
    "# cv = RepeatedStratifiedKFold(n_splits=10, n_repeats=3, random_state=1)\n",
    "# grid_search = GridSearchCV(estimator=model, param_grid=grid, n_jobs=-1, cv=cv, scoring='accuracy',error_score=0)\n",
    "# grid_result = grid_search.fit(X_train, y_train)\n",
    "# # summarize results\n",
    "# print(\"Best: %f using %s\" % (grid_result.best_score_, grid_result.best_params_))\n",
    "# means = grid_result.cv_results_['mean_test_score']\n",
    "# stds = grid_result.cv_results_['std_test_score']\n",
    "# params = grid_result.cv_results_['params']\n",
    "# for mean, stdev, param in zip(means, stds, params):\n",
    "#     print(\"%f (%f) with: %r\" % (mean, stdev, param))"
   ]
  },
  {
   "cell_type": "code",
   "execution_count": 90,
   "metadata": {},
   "outputs": [],
   "source": [
    "# show_prediction(y_pred, y_test)"
   ]
  },
  {
   "cell_type": "code",
   "execution_count": null,
   "metadata": {},
   "outputs": [],
   "source": []
  },
  {
   "cell_type": "code",
   "execution_count": 78,
   "metadata": {},
   "outputs": [
    {
     "name": "stdout",
     "output_type": "stream",
     "text": [
      "accuracy score: 0.8168604651162791\n"
     ]
    }
   ],
   "source": [
    "# Linear SVC\n",
    "from sklearn.svm import SVC\n",
    "\n",
    "classifier = SVC(C=1.0, gamma='scale', kernel='linear', random_state=0)\n",
    "classifier.fit(X_train, y_train)\n",
    "\n",
    "# Predicting the Test set results\n",
    "y_pred = classifier.predict(X_test)\n",
    "\n",
    "# Making the Confusion Matrix\n",
    "from sklearn.metrics import confusion_matrix\n",
    "cm_lsvc = confusion_matrix(y_test, y_pred)\n",
    "\n",
    "print(\"accuracy score: \" + str(classifier.score(X_test, y_test)))"
   ]
  },
  {
   "cell_type": "code",
   "execution_count": 79,
   "metadata": {},
   "outputs": [],
   "source": [
    "# accuracies = acc_each_class(cm)\n",
    "\n",
    "# acc_corrective.append(accuracies[0])\n",
    "# acc_imperative.append(accuracies[1])\n",
    "# acc_interrogative.append(accuracies[2])\n",
    "# acc_miscellaneous.append(accuracies[3])\n",
    "# acc_negative.append(accuracies[4])\n",
    "# acc_positive.append(accuracies[5])"
   ]
  },
  {
   "cell_type": "code",
   "execution_count": null,
   "metadata": {},
   "outputs": [],
   "source": []
  },
  {
   "cell_type": "code",
   "execution_count": null,
   "metadata": {},
   "outputs": [],
   "source": []
  },
  {
   "cell_type": "code",
   "execution_count": 48,
   "metadata": {
    "scrolled": true
   },
   "outputs": [],
   "source": [
    "# ### Hyperparameter Tuning ###\n",
    "\n",
    "# from sklearn.model_selection import RepeatedStratifiedKFold\n",
    "# from sklearn.model_selection import GridSearchCV\n",
    "# from sklearn.svm import SVC\n",
    "\n",
    "# # define model and parameters\n",
    "# model = SVC()\n",
    "# kernel = ['linear','poly', 'rbf', 'sigmoid']\n",
    "# C = [50, 10, 1.0, 0.1, 0.01]\n",
    "# gamma = ['scale']\n",
    "# # define grid search\n",
    "# grid = dict(kernel=kernel,C=C,gamma=gamma)\n",
    "# cv = RepeatedStratifiedKFold(n_splits=10, n_repeats=3, random_state=1)\n",
    "# grid_search = GridSearchCV(estimator=model, param_grid=grid, n_jobs=-1, cv=cv, scoring='accuracy',error_score=0)\n",
    "# grid_result = grid_search.fit(X_train, y_train)\n",
    "# # summarize results\n",
    "# print(\"Best: %f using %s\" % (grid_result.best_score_, grid_result.best_params_))\n",
    "# means = grid_result.cv_results_['mean_test_score']\n",
    "# stds = grid_result.cv_results_['std_test_score']\n",
    "# params = grid_result.cv_results_['params']\n",
    "# for mean, stdev, param in zip(means, stds, params):\n",
    "#     print(\"%f (%f) with: %r\" % (mean, stdev, param))"
   ]
  },
  {
   "cell_type": "code",
   "execution_count": 49,
   "metadata": {},
   "outputs": [],
   "source": [
    "# show_prediction(y_pred, y_test)"
   ]
  },
  {
   "cell_type": "code",
   "execution_count": 81,
   "metadata": {},
   "outputs": [
    {
     "name": "stdout",
     "output_type": "stream",
     "text": [
      "accuracy score: 0.8343023255813954\n"
     ]
    }
   ],
   "source": [
    "# Logistic Regression\n",
    "from sklearn.linear_model import LogisticRegression\n",
    "\n",
    "classifier = LogisticRegression(C=1.0, penalty='l2', solver='newton-cg', random_state = 0)\n",
    "classifier.fit(X_train, y_train)\n",
    "\n",
    "# Predicting the Test set results\n",
    "y_pred = classifier.predict(X_test)\n",
    "\n",
    "# Making the Confusion Matrix\n",
    "from sklearn.metrics import confusion_matrix\n",
    "cm_lr = confusion_matrix(y_test, y_pred)\n",
    "\n",
    "print(\"accuracy score: \" + str(classifier.score(X_test, y_test)))"
   ]
  },
  {
   "cell_type": "code",
   "execution_count": 82,
   "metadata": {},
   "outputs": [
    {
     "data": {
      "text/plain": [
       "array([[  3,   0,   0,   1,   0,   0],\n",
       "       [  0,  38,   7,   1,   1,   6],\n",
       "       [  0,   5,  79,   0,   2,   5],\n",
       "       [  0,   1,   1,  16,   2,  12],\n",
       "       [  0,   1,   0,   1,  12,   7],\n",
       "       [  0,   3,   0,   1,   0, 139]])"
      ]
     },
     "execution_count": 82,
     "metadata": {},
     "output_type": "execute_result"
    }
   ],
   "source": [
    "cm_lr"
   ]
  },
  {
   "cell_type": "code",
   "execution_count": 83,
   "metadata": {},
   "outputs": [],
   "source": [
    "# accuracies = acc_each_class(cm_lr)\n",
    "\n",
    "# acc_corrective.append(accuracies[0])\n",
    "# acc_imperative.append(accuracies[1])\n",
    "# acc_interrogative.append(accuracies[2])\n",
    "# acc_miscellaneous.append(accuracies[3])\n",
    "# acc_negative.append(accuracies[4])\n",
    "# acc_positive.append(accuracies[5])"
   ]
  },
  {
   "cell_type": "code",
   "execution_count": 50,
   "metadata": {
    "scrolled": true
   },
   "outputs": [],
   "source": [
    "# ### Hyperparameter Tuning ###\n",
    "\n",
    "# from sklearn.model_selection import RepeatedStratifiedKFold\n",
    "# from sklearn.model_selection import GridSearchCV\n",
    "# from sklearn.linear_model import LogisticRegression\n",
    "\n",
    "# # define models and parameters\n",
    "# model = LogisticRegression()\n",
    "# solvers = ['newton-cg', 'lbfgs', 'liblinear']\n",
    "# penalty = ['l1', 'l2', 'elasticnet', 'none']\n",
    "# c_values = [100, 10, 1.0, 0.1, 0.01]\n",
    "# # define grid search\n",
    "# grid = dict(solver=solvers,penalty=penalty,C=c_values)\n",
    "# cv = RepeatedStratifiedKFold(n_splits=10, n_repeats=3, random_state=1)\n",
    "# grid_search = GridSearchCV(estimator=model, param_grid=grid, n_jobs=-1, cv=cv, scoring='accuracy',error_score=0)\n",
    "# grid_result = grid_search.fit(X_train, y_train)\n",
    "# # summarize results\n",
    "# print(\"Best: %f using %s\" % (grid_result.best_score_, grid_result.best_params_))\n",
    "# means = grid_result.cv_results_['mean_test_score']\n",
    "# stds = grid_result.cv_results_['std_test_score']\n",
    "# params = grid_result.cv_results_['params']\n",
    "# for mean, stdev, param in zip(means, stds, params):\n",
    "#     print(\"%f (%f) with: %r\" % (mean, stdev, param))"
   ]
  },
  {
   "cell_type": "code",
   "execution_count": 51,
   "metadata": {},
   "outputs": [],
   "source": [
    "# show_prediction(y_pred, y_test)"
   ]
  },
  {
   "cell_type": "code",
   "execution_count": 84,
   "metadata": {},
   "outputs": [],
   "source": [
    "# # Naive Bayes\n",
    "# from sklearn.naive_bayes import GaussianNB\n",
    "\n",
    "# classifier = GaussianNB()\n",
    "# classifier.fit(X_train, y_train)\n",
    "\n",
    "# # Predicting the Test set results\n",
    "# y_pred = classifier.predict(X_test)\n",
    "\n",
    "# # Making the Confusion Matrix\n",
    "# from sklearn.metrics import confusion_matrix\n",
    "# cm = confusion_matrix(y_test, y_pred)\n",
    "\n",
    "# print(\"accuracy score: \" + str(classifier.score(X_test, y_test)))"
   ]
  },
  {
   "cell_type": "code",
   "execution_count": 52,
   "metadata": {},
   "outputs": [],
   "source": [
    "# # KNN\n",
    "# from sklearn.neighbors import KNeighborsClassifier\n",
    "\n",
    "# classifier = KNeighborsClassifier(n_neighbors = 5, metric = 'minkowski', p = 2)\n",
    "# classifier.fit(X_train, y_train)\n",
    "\n",
    "# # Predicting the Test set results\n",
    "# y_pred = classifier.predict(X_test)\n",
    "\n",
    "# # Making the Confusion Matrix\n",
    "# from sklearn.metrics import confusion_matrix\n",
    "# cm_knn = confusion_matrix(y_test, y_pred)\n",
    "\n",
    "# print(\"accuracy score: \" + str(classifier.score(X_test, y_test)))"
   ]
  },
  {
   "cell_type": "code",
   "execution_count": 53,
   "metadata": {},
   "outputs": [],
   "source": [
    "# # Kernal SVC RBF\n",
    "\n",
    "# classifier = SVC(kernel = 'rbf', random_state = 0)\n",
    "# classifier.fit(X_train, y_train)\n",
    "\n",
    "# # Predicting the Test set results\n",
    "# y_pred = classifier.predict(X_test)\n",
    "\n",
    "# # Making the Confusion Matrix\n",
    "# from sklearn.metrics import confusion_matrix\n",
    "# cm_k_svc = confusion_matrix(y_test, y_pred)\n",
    "\n",
    "# print(\"accuracy score: \" + str(classifier.score(X_test, y_test)))"
   ]
  },
  {
   "cell_type": "code",
   "execution_count": 54,
   "metadata": {},
   "outputs": [],
   "source": [
    "# # Kernal SVC sigmoid\n",
    "\n",
    "# classifier = SVC(kernel = 'sigmoid', random_state = 0)\n",
    "# classifier.fit(X_train, y_train)\n",
    "\n",
    "# # Predicting the Test set results\n",
    "# y_pred = classifier.predict(X_test)\n",
    "\n",
    "# # Making the Confusion Matrix\n",
    "# from sklearn.metrics import confusion_matrix\n",
    "# cm = confusion_matrix(y_test, y_pred)\n",
    "\n",
    "# print(\"accuracy score: \" + str(classifier.score(X_test, y_test)))"
   ]
  },
  {
   "cell_type": "code",
   "execution_count": 85,
   "metadata": {},
   "outputs": [
    {
     "name": "stdout",
     "output_type": "stream",
     "text": [
      "accuracy score: 0.8459302325581395\n"
     ]
    }
   ],
   "source": [
    "# Random Forest\n",
    "from sklearn.ensemble import RandomForestClassifier\n",
    "\n",
    "# classifier = RandomForestClassifier(n_estimators = 100, criterion = 'entropy', random_state = 0)\n",
    "classifier = RandomForestClassifier(max_features='log2', n_estimators=1000, criterion = 'entropy', random_state = 0)\n",
    "\n",
    "classifier.fit(X_train, y_train)\n",
    "\n",
    "# Predicting the Test set results\n",
    "y_pred = classifier.predict(X_test)\n",
    "\n",
    "# Making the Confusion Matrix\n",
    "from sklearn.metrics import confusion_matrix\n",
    "cm_rf = confusion_matrix(y_test, y_pred)\n",
    "\n",
    "print(\"accuracy score: \" + str(classifier.score(X_test, y_test)))"
   ]
  },
  {
   "cell_type": "code",
   "execution_count": 86,
   "metadata": {},
   "outputs": [],
   "source": [
    "# accuracies = acc_each_class(cm_rf)\n",
    "\n",
    "# acc_corrective.append(accuracies[0])\n",
    "# acc_imperative.append(accuracies[1])\n",
    "# acc_interrogative.append(accuracies[2])\n",
    "# acc_miscellaneous.append(accuracies[3])\n",
    "# acc_negative.append(accuracies[4])\n",
    "# acc_positive.append(accuracies[5])"
   ]
  },
  {
   "cell_type": "code",
   "execution_count": 55,
   "metadata": {},
   "outputs": [],
   "source": [
    "# ### Hyperparameter Tuning ###\n",
    "\n",
    "# from sklearn.model_selection import RepeatedStratifiedKFold\n",
    "# from sklearn.model_selection import GridSearchCV\n",
    "# from sklearn.ensemble import RandomForestClassifier\n",
    "\n",
    "# # define models and parameters\n",
    "# model = RandomForestClassifier()\n",
    "# n_estimators = [10, 100, 1000]\n",
    "# max_features = ['sqrt', 'log2']\n",
    "# criterion = ['gini', 'entropy']\n",
    "# # define grid search\n",
    "# grid = dict(n_estimators=n_estimators,max_features=max_features,criterion=criterion)\n",
    "# cv = RepeatedStratifiedKFold(n_splits=10, n_repeats=3, random_state=1)\n",
    "# grid_search = GridSearchCV(estimator=model, param_grid=grid, n_jobs=-1, cv=cv, scoring='accuracy',error_score=0)\n",
    "# grid_result = grid_search.fit(X_train, y_train)\n",
    "# # summarize results\n",
    "# print(\"Best: %f using %s\" % (grid_result.best_score_, grid_result.best_params_))\n",
    "# means = grid_result.cv_results_['mean_test_score']\n",
    "# stds = grid_result.cv_results_['std_test_score']\n",
    "# params = grid_result.cv_results_['params']\n",
    "# for mean, stdev, param in zip(means, stds, params):\n",
    "#     print(\"%f (%f) with: %r\" % (mean, stdev, param))"
   ]
  },
  {
   "cell_type": "code",
   "execution_count": 40,
   "metadata": {},
   "outputs": [],
   "source": [
    "# # Show falsely predicted comments\n",
    "\n",
    "# def show_neg_prediction(y_pred, y_test):\n",
    "\n",
    "#     indices_match = y_pred == y_test\n",
    "\n",
    "#     df = pd.read_csv('Scrapper/final.csv', header=None)\n",
    "\n",
    "#     get_comments = []\n",
    "\n",
    "#     for i in range(len(indices_test)):\n",
    "#         if indices_match[i] == False:\n",
    "#             get_comments.append(df[0][indices_test[i]])\n",
    "\n",
    "\n",
    "#     data = list(zip(get_comments, y_test, y_pred))\n",
    "#     df_result = pd.DataFrame(data, columns = [\"comment\", \"original class\", \"predicted class\"])\n",
    "#     return df_result"
   ]
  },
  {
   "cell_type": "code",
   "execution_count": 56,
   "metadata": {
    "scrolled": true
   },
   "outputs": [],
   "source": [
    "# df_ = show_prediction(y_pred, y_test)\n",
    "# pd.options.display.max_colwidth = 150\n",
    "# df_.iloc[200:250]\n"
   ]
  },
  {
   "cell_type": "code",
   "execution_count": 87,
   "metadata": {},
   "outputs": [
    {
     "name": "stdout",
     "output_type": "stream",
     "text": [
      "accuracy score: 0.7819767441860465\n"
     ]
    }
   ],
   "source": [
    "# Decision Tree\n",
    "# from sklearn.tree import DecisionTreeClassifier\n",
    "\n",
    "classifier = DecisionTreeClassifier(criterion='gini', \n",
    "                                    max_features=None,min_samples_leaf=1, \n",
    "                                    min_samples_split=2, random_state=0)\n",
    "# classifier = DecisionTreeClassifier()\n",
    "\n",
    "classifier.fit(X_train, y_train)\n",
    "\n",
    "# Predicting the Test set results\n",
    "y_pred = classifier.predict(X_test)\n",
    "\n",
    "# Making the Confusion Matrix\n",
    "from sklearn.metrics import confusion_matrix\n",
    "cm_dt = confusion_matrix(y_test, y_pred)\n",
    "\n",
    "print(\"accuracy score: \" + str(classifier.score(X_test, y_test)))"
   ]
  },
  {
   "cell_type": "code",
   "execution_count": 88,
   "metadata": {},
   "outputs": [],
   "source": [
    "# accuracies = acc_each_class(cm_dt)\n",
    "\n",
    "# acc_corrective.append(accuracies[0])\n",
    "# acc_imperative.append(accuracies[1])\n",
    "# acc_interrogative.append(accuracies[2])\n",
    "# acc_miscellaneous.append(accuracies[3])\n",
    "# acc_negative.append(accuracies[4])\n",
    "# acc_positive.append(accuracies[5])"
   ]
  },
  {
   "cell_type": "code",
   "execution_count": 132,
   "metadata": {
    "scrolled": true
   },
   "outputs": [],
   "source": [
    "# from sklearn import tree\n",
    "# tree.export_graphviz(classifier, out_file='tree.dot') \n",
    "# tree.plot_tree(classifier)"
   ]
  },
  {
   "cell_type": "code",
   "execution_count": 57,
   "metadata": {
    "scrolled": true
   },
   "outputs": [],
   "source": [
    "# ### Hyperparameter Tuning ###\n",
    "\n",
    "# from sklearn.model_selection import RepeatedStratifiedKFold\n",
    "# from sklearn.model_selection import GridSearchCV\n",
    "\n",
    "# # define models and parameters\n",
    "# model = DecisionTreeClassifier()\n",
    "# max_features = ['sqrt', 'log2', 'auto']\n",
    "# criterion = ['gini', 'entropy']\n",
    "# max_depth = [2,4,6,8,10,12]\n",
    "# min_samples_split = range(1,10)\n",
    "# min_samples_leaf = range(1,5)\n",
    "# # define grid search\n",
    "# grid = dict(max_depth=max_depth,max_features=max_features,criterion=criterion,min_samples_split=min_samples_split,min_samples_leaf=min_samples_leaf)\n",
    "# cv = RepeatedStratifiedKFold(n_splits=10, n_repeats=3, random_state=1)\n",
    "# grid_search = GridSearchCV(estimator=model, param_grid=grid, n_jobs=-1, cv=cv, scoring='accuracy',error_score=0)\n",
    "# grid_result = grid_search.fit(X_train, y_train)\n",
    "# # summarize results\n",
    "# print(\"Best: %f using %s\" % (grid_result.best_score_, grid_result.best_params_))\n",
    "# means = grid_result.cv_results_['mean_test_score']\n",
    "# stds = grid_result.cv_results_['std_test_score']\n",
    "# params = grid_result.cv_results_['params']\n",
    "# for mean, stdev, param in zip(means, stds, params):\n",
    "#     print(\"%f (%f) with: %r\" % (mean, stdev, param))"
   ]
  },
  {
   "cell_type": "code",
   "execution_count": 58,
   "metadata": {},
   "outputs": [],
   "source": [
    "# show_prediction(y_pred, y_test)"
   ]
  },
  {
   "cell_type": "markdown",
   "metadata": {},
   "source": [
    "## Histogram"
   ]
  },
  {
   "cell_type": "code",
   "execution_count": 200,
   "metadata": {},
   "outputs": [],
   "source": [
    "def acc_each_category(cf_matrix):\n",
    "#     total_comments = cf_matrix.sum(axis=1)\n",
    "    correctly_classified = np.diagonal(cf_matrix)\n",
    "    return correctly_classified\n",
    "\n",
    "y = cm_dt.sum(axis=1)"
   ]
  },
  {
   "cell_type": "code",
   "execution_count": 201,
   "metadata": {},
   "outputs": [],
   "source": [
    "z1 = acc_each_category(cm_lsvc)\n",
    "z2 = acc_each_category(cm_lr)\n",
    "z3 = acc_each_category(cm_mnb)\n",
    "z4 = acc_each_category(cm_rf)\n",
    "z5 = acc_each_category(cm_dt)"
   ]
  },
  {
   "cell_type": "code",
   "execution_count": null,
   "metadata": {},
   "outputs": [],
   "source": []
  },
  {
   "cell_type": "code",
   "execution_count": 231,
   "metadata": {
    "scrolled": false
   },
   "outputs": [
    {
     "data": {
      "image/png": "[encoded data removed]",
      "text/plain": [
       "<Figure size 1080x360 with 1 Axes>"
      ]
     },
     "metadata": {
      "needs_background": "light"
     },
     "output_type": "display_data"
    }
   ],
   "source": [
    "import matplotlib.pyplot as plt\n",
    "\n",
    "x_tick = np.unique(y_test)\n",
    "w = 0.125\n",
    "x1 = np.array([1,2,3,4,5,6])\n",
    "x2 = x1+w\n",
    "x3 = x2+w\n",
    "x4 = x3+w\n",
    "x5 = x4+w\n",
    "x6 = x5+w\n",
    "x7 = x6+w\n",
    "\n",
    "plt.xticks(ticks=x1+0.3, labels=x_tick)\n",
    "plt.bar(x1, y, w, label = \"Total Comments\")\n",
    "plt.bar(x2, z1, w, label = \"Linear SVC\")\n",
    "plt.bar(x3, z2, w, label = \"Logistic Regression\",)\n",
    "plt.bar(x4, z3, w, label = \"Multinomial NB\",)\n",
    "plt.bar(x5, z4, w, label = \"Random Forest Classifier\")\n",
    "plt.bar(x6, z5, w, label = \"Decision Tree\")\n",
    "\n",
    "\n",
    "plt.rcParams[\"figure.figsize\"] = (15,5)\n",
    "plt.xlabel(\"Category\")\n",
    "plt.ylabel(\"Number of Comments\")\n",
    "plt.legend()\n",
    "plt.show()"
   ]
  },
  {
   "cell_type": "code",
   "execution_count": null,
   "metadata": {},
   "outputs": [],
   "source": []
  },
  {
   "cell_type": "markdown",
   "metadata": {},
   "source": [
    "## Percentage of accuracy in each class"
   ]
  },
  {
   "cell_type": "code",
   "execution_count": 189,
   "metadata": {},
   "outputs": [],
   "source": [
    "corr = [i * 100 for i in acc_corrective]\n",
    "imp = [i * 100 for i in acc_imperative]\n",
    "inte = [i * 100 for i in acc_interrogative]\n",
    "mis = [i * 100 for i in acc_miscellaneous]\n",
    "neg = [i * 100 for i in acc_negative]\n",
    "pos = [i * 100 for i in acc_positive]"
   ]
  },
  {
   "cell_type": "code",
   "execution_count": 190,
   "metadata": {},
   "outputs": [
    {
     "data": {
      "image/png": "[encoded data removed]",
      "text/plain": [
       "<Figure size 432x288 with 1 Axes>"
      ]
     },
     "metadata": {
      "needs_background": "light"
     },
     "output_type": "display_data"
    }
   ],
   "source": [
    "import matplotlib.pyplot as plt\n",
    "\n",
    "# x1 = [10,20,30,40,50]\n",
    "x1 = ['Linear SVC','Logistic Regression','Multinomial NB','Random Forest Classifier','Decision Tree Classifier']\n",
    "# corrective\n",
    "y1 = corr\n",
    "# plotting the line 1 points \n",
    "plt.plot(x1, y1, label = \"Corrective\", marker='o')\n",
    "\n",
    "# imperative\n",
    "y2 = imp\n",
    "# plotting the line 2 points \n",
    "plt.plot(x1, y2, label = \"Imperative\", marker='*')\n",
    "\n",
    "# interrogative\n",
    "y3 = inte\n",
    "# plotting the line 2 points \n",
    "plt.plot(x1, y3, label = \"Interrogative\", marker='s')\n",
    "\n",
    "# Miscellaneous\n",
    "y4 = mis\n",
    "# plotting the line 2 points \n",
    "plt.plot(x1, y4, label = \"Miscellaneous\", marker='.')\n",
    "\n",
    "# Negative\n",
    "y5 = neg\n",
    "# plotting the line 2 points \n",
    "plt.plot(x1, y5, label = \"Negative\", marker='^')\n",
    "\n",
    "# Positive\n",
    "y6 = pos\n",
    "# plotting the line 2 points \n",
    "plt.plot(x1, y6, label = \"Positive\", marker='+')\n",
    "\n",
    "\n",
    "plt.xlabel('')\n",
    "# Set the y axis label of the current axis.\n",
    "plt.ylabel('Accuracy Percentage')\n",
    "# Set a title of the current axes.\n",
    "plt.title('')\n",
    "# show a legend on the plot\n",
    "plt.legend()\n",
    "\n",
    "plt.xticks(rotation=90)\n",
    "# Display a figure.\n",
    "plt.show()"
   ]
  },
  {
   "cell_type": "markdown",
   "metadata": {},
   "source": [
    "## Plotting accuracy vs data size"
   ]
  },
  {
   "cell_type": "code",
   "execution_count": 84,
   "metadata": {},
   "outputs": [
    {
     "data": {
      "image/png": "[encoded data removed]",
      "text/plain": [
       "<Figure size 864x576 with 1 Axes>"
      ]
     },
     "metadata": {
      "needs_background": "light"
     },
     "output_type": "display_data"
    }
   ],
   "source": [
    "def plot_acc_curve(classifier, linestyle, label):    \n",
    "    \n",
    "    num_of_splits = 14\n",
    "    each_split_size = len(X_train)//num_of_splits\n",
    "\n",
    "    each_split = 98\n",
    "    scores = []\n",
    "\n",
    "    for i in range(num_of_splits+1):\n",
    "        split_X_train = X_train[0:each_split]\n",
    "        split_y_train = y_train[0:each_split]\n",
    "\n",
    "        each_split += each_split_size\n",
    "\n",
    "        classifier.fit(split_X_train, split_y_train)\n",
    "        scores.append(classifier.score(X_test, y_test))\n",
    "    \n",
    "    m = 14\n",
    "    n = 98\n",
    "    x_splits = list(range(0, (m+1)*n, n))\n",
    "\n",
    "    plt.xlabel('Data Size')\n",
    "    plt.ylabel('Testing Accuracy')\n",
    "    plt.plot(x_splits, scores, linestyle, label = label)\n",
    "    plt.xticks(x_splits)\n",
    "    plt.legend(loc=\"best\")\n",
    "    \n",
    "    return plt\n",
    "    \n",
    "\n",
    "plt.figure(figsize=(12,8))\n",
    "\n",
    "# Linear SVC\n",
    "classifier = SVC(C=1.0, gamma='scale', kernel='linear', random_state=0)\n",
    "plot_acc_curve(classifier, linestyle = 'o-', label=\"Linear SVC\")\n",
    "\n",
    "# Logistic Regression\n",
    "classifier = LogisticRegression(C=1.0, penalty='l2', solver='newton-cg', random_state = 0)\n",
    "plot_acc_curve(classifier, linestyle = '*-', label=\"Logistic Regression\")\n",
    "\n",
    "# Multinomial NB\n",
    "classifier = MultinomialNB(alpha=1, fit_prior=True)\n",
    "plot_acc_curve(classifier, linestyle = '^-', label=\"Multinomial NB\")\n",
    "\n",
    "# Random Forest Classifier\n",
    "classifier = RandomForestClassifier(max_features='log2', n_estimators=1000, criterion = 'entropy', random_state = 0)\n",
    "plot_acc_curve(classifier, linestyle = 's-', label=\"Random Forest Classifier\")\n",
    "\n",
    "# Decision Tree Classifier\n",
    "classifier = DecisionTreeClassifier(criterion='gini', \n",
    "                                    max_features=None, min_samples_leaf=1, \n",
    "                                    min_samples_split=2, random_state=0)\n",
    "plot_acc_curve(classifier, linestyle = 'x-', label=\"Decision Tree Classifier\")\n",
    "\n",
    "plt.show()"
   ]
  },
  {
   "cell_type": "code",
   "execution_count": null,
   "metadata": {},
   "outputs": [],
   "source": []
  },
  {
   "cell_type": "code",
   "execution_count": null,
   "metadata": {},
   "outputs": [],
   "source": []
  },
  {
   "cell_type": "markdown",
   "metadata": {},
   "source": [
    "## PLotting the learning curves"
   ]
  },
  {
   "cell_type": "code",
   "execution_count": null,
   "metadata": {},
   "outputs": [],
   "source": [
    "\n",
    "\n",
    "# import numpy as np\n",
    "# import matplotlib.pyplot as plt\n",
    "# from sklearn.naive_bayes import GaussianNB\n",
    "# from sklearn.svm import SVC\n",
    "# from sklearn.datasets import load_digits\n",
    "# from sklearn.model_selection import learning_curve\n",
    "# from sklearn.model_selection import ShuffleSplit\n",
    "\n",
    "\n",
    "# def plot_learning_curve(estimator, title, X, y, axes=None, ylim=None, cv=None,\n",
    "#                         n_jobs=None, train_sizes=np.linspace(.1, 1.0, 5)):\n",
    "\n",
    "#     if axes is None:\n",
    "#         _, axes = plt.subplots(1, 3, figsize=(20, 5))\n",
    "\n",
    "#     axes[0].set_title(title)\n",
    "#     if ylim is not None:\n",
    "#         axes[0].set_ylim(*ylim)\n",
    "#     axes[0].set_xlabel(\"Training examples\")\n",
    "#     axes[0].set_ylabel(\"Score\")\n",
    "\n",
    "#     train_sizes, train_scores, test_scores, fit_times, _ = \\\n",
    "#         learning_curve(estimator, X, y, cv=cv, n_jobs=n_jobs,\n",
    "#                        train_sizes=train_sizes,\n",
    "#                        return_times=True)\n",
    "#     train_scores_mean = np.mean(train_scores, axis=1)\n",
    "#     train_scores_std = np.std(train_scores, axis=1)\n",
    "#     test_scores_mean = np.mean(test_scores, axis=1)\n",
    "#     test_scores_std = np.std(test_scores, axis=1)\n",
    "#     fit_times_mean = np.mean(fit_times, axis=1)\n",
    "#     fit_times_std = np.std(fit_times, axis=1)\n",
    "\n",
    "#     # Plot learning curve\n",
    "#     axes[0].grid()\n",
    "#     axes[0].fill_between(train_sizes, train_scores_mean - train_scores_std,\n",
    "#                          train_scores_mean + train_scores_std, alpha=0.1,\n",
    "#                          color=\"r\")\n",
    "#     axes[0].fill_between(train_sizes, test_scores_mean - test_scores_std,\n",
    "#                          test_scores_mean + test_scores_std, alpha=0.1,\n",
    "#                          color=\"g\")\n",
    "#     axes[0].plot(train_sizes, train_scores_mean, 'o-', color=\"r\",\n",
    "#                  label=\"Training score\")\n",
    "#     axes[0].plot(train_sizes, test_scores_mean, 'o-', color=\"g\",\n",
    "#                  label=\"Cross-validation score\")\n",
    "#     axes[0].legend(loc=\"best\")\n",
    "\n",
    "#     # Plot n_samples vs fit_times\n",
    "#     axes[1].grid()\n",
    "#     axes[1].plot(train_sizes, fit_times_mean, 'o-')\n",
    "#     axes[1].fill_between(train_sizes, fit_times_mean - fit_times_std,\n",
    "#                          fit_times_mean + fit_times_std, alpha=0.1)\n",
    "#     axes[1].set_xlabel(\"Training examples\")\n",
    "#     axes[1].set_ylabel(\"fit_times\")\n",
    "#     axes[1].set_title(\"Scalability of the model\")\n",
    "\n",
    "#     # Plot fit_time vs score\n",
    "#     axes[2].grid()\n",
    "#     axes[2].plot(fit_times_mean, test_scores_mean, 'o-')\n",
    "#     axes[2].fill_between(fit_times_mean, test_scores_mean - test_scores_std,\n",
    "#                          test_scores_mean + test_scores_std, alpha=0.1)\n",
    "#     axes[2].set_xlabel(\"fit_times\")\n",
    "#     axes[2].set_ylabel(\"Score\")\n",
    "#     axes[2].set_title(\"Performance of the model\")\n",
    "\n",
    "#     return plt\n",
    "\n",
    "\n",
    "# fig, axes = plt.subplots(3, 2, figsize=(10, 15))\n",
    "\n",
    "# # X, y = load_digits(return_X_y=True)\n",
    "\n",
    "# title = \"Learning Curves (Naive Bayes)\"\n",
    "# # Cross validation with 100 iterations to get smoother mean test and train\n",
    "# # score curves, each time with 20% data randomly selected as a validation set.\n",
    "# cv = ShuffleSplit(n_splits=100, test_size=0.2, random_state=0)\n",
    "\n",
    "# estimator = RandomForestClassifier(n_estimators = 100, criterion = 'entropy', random_state = 0)\n",
    "# plot_learning_curve(estimator, title, X, y, axes=axes[:, 0], ylim=(0.7, 1.01),\n",
    "#                     cv=cv, n_jobs=4)\n",
    "\n",
    "# title = r\"Learning Curves (SVM, linear, $\\gamma=0.001$)\"\n",
    "# # SVC is more expensive so we do a lower number of CV iterations:\n",
    "# cv = ShuffleSplit(n_splits=10, test_size=0.2, random_state=0)\n",
    "# estimator = LogisticRegression(random_state = 0)\n",
    "# plot_learning_curve(estimator, title, X, y, axes=axes[:, 1], ylim=(0.7, 1.01),\n",
    "#                     cv=cv, n_jobs=4)\n",
    "\n",
    "# plt.show()"
   ]
  },
  {
   "cell_type": "code",
   "execution_count": null,
   "metadata": {},
   "outputs": [],
   "source": []
  },
  {
   "cell_type": "markdown",
   "metadata": {},
   "source": [
    "## Creating a json file and sending to the server"
   ]
  },
  {
   "cell_type": "code",
   "execution_count": null,
   "metadata": {},
   "outputs": [],
   "source": [
    "# cm_rf_p = cm_rf.astype('float') / cm_rf.sum(axis=1)[:, np.newaxis]\n",
    "# cm_lr_p = cm_lr.astype('float') / cm_lr.sum(axis=1)[:, np.newaxis]\n",
    "# cm_knn_p = cm_knn.astype('float') / cm_knn.sum(axis=1)[:, np.newaxis]\n",
    "# cm_k_svc_p = cm_k_svc.astype('float') / cm_k_svc.sum(axis=1)[:, np.newaxis]\n",
    "# cm_dt_p = cm_dt.astype('float') / cm_dt.sum(axis=1)[:, np.newaxis]"
   ]
  },
  {
   "cell_type": "code",
   "execution_count": null,
   "metadata": {},
   "outputs": [],
   "source": [
    "# unique, counts = np.unique(y_pred, return_counts=True)"
   ]
  },
  {
   "cell_type": "code",
   "execution_count": null,
   "metadata": {},
   "outputs": [],
   "source": [
    "# dict_pred_rf = dict(zip(unique, cm_rf_p.diagonal()))\n",
    "# dict_pred_lr = dict(zip(unique, cm_lr_p.diagonal()))\n",
    "# dict_pred_knn = dict(zip(unique, cm_knn_p.diagonal()))\n",
    "# dict_pred_k_svc = dict(zip(unique, cm_k_svc_p.diagonal()))\n",
    "# dict_pred_dt = dict(zip(unique, cm_dt_p.diagonal()))"
   ]
  },
  {
   "cell_type": "code",
   "execution_count": null,
   "metadata": {},
   "outputs": [],
   "source": [
    "# import json\n",
    "\n",
    "# models = ['random_forest', 'linear_regression', 'knn', 'kernal_svc', 'decision_tree']\n",
    "# pred_dict = [dict_pred_rf, dict_pred_lr, dict_pred_knn, dict_pred_k_svc, dict_pred_dt]\n",
    "\n",
    "# predictions = {}\n",
    "# for model, pred in zip(models, pred_dict):\n",
    "#     predictions[model] = pred\n",
    "\n",
    "# with open('prediction.json', 'w') as json_file:\n",
    "#     json.dump(predictions, json_file)"
   ]
  },
  {
   "cell_type": "code",
   "execution_count": null,
   "metadata": {},
   "outputs": [],
   "source": [
    "# predictions"
   ]
  },
  {
   "cell_type": "code",
   "execution_count": null,
   "metadata": {},
   "outputs": [],
   "source": [
    "# To DO:\n",
    "# Send json"
   ]
  },
  {
   "cell_type": "code",
   "execution_count": null,
   "metadata": {},
   "outputs": [],
   "source": []
  }
 ],
 "metadata": {
  "kernelspec": {
   "display_name": "venv",
   "language": "python",
   "name": "venv"
  },
  "language_info": {
   "codemirror_mode": {
    "name": "ipython",
    "version": 3
   },
   "file_extension": ".py",
   "mimetype": "text/x-python",
   "name": "python",
   "nbconvert_exporter": "python",
   "pygments_lexer": "ipython3",
   "version": "3.8.6"
  }
 },
 "nbformat": 4,
 "nbformat_minor": 4
}
